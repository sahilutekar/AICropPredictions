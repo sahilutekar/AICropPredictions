{
  "nbformat": 4,
  "nbformat_minor": 0,
  "metadata": {
    "colab": {
      "name": "Mini_project.ipynb",
      "provenance": [],
      "collapsed_sections": []
    },
    "kernelspec": {
      "name": "python3",
      "display_name": "Python 3"
    },
    "language_info": {
      "name": "python"
    }
  },
  "cells": [
    {
      "cell_type": "code",
      "metadata": {
        "id": "RHHVUG8PbJ4d"
      },
      "source": [
        "import numpy as np\n",
        "import numpy as np \n",
        "import matplotlib.pyplot as plt\n",
        "import seaborn as sns\n",
        "from sklearn import metrics\n",
        "from sklearn import tree\n",
        "import warnings\n",
        "warnings.filterwarnings('ignore')\n"
      ],
      "execution_count": null,
      "outputs": []
    },
    {
      "cell_type": "code",
      "metadata": {
        "id": "1JdF7MWjfETK"
      },
      "source": [
        "import pandas as pd\n",
        "\n",
        "df = pd.read_csv('/content/Crop_recommendation')"
      ],
      "execution_count": null,
      "outputs": []
    },
    {
      "cell_type": "code",
      "metadata": {
        "colab": {
          "base_uri": "https://localhost:8080/",
          "height": 197
        },
        "id": "ZFLBxo0NiMSD",
        "outputId": "0f31286f-219d-4e61-c8df-09a86e6adfde"
      },
      "source": [
        "df.head()"
      ],
      "execution_count": null,
      "outputs": [
        {
          "output_type": "execute_result",
          "data": {
            "text/html": [
              "<div>\n",
              "<style scoped>\n",
              "    .dataframe tbody tr th:only-of-type {\n",
              "        vertical-align: middle;\n",
              "    }\n",
              "\n",
              "    .dataframe tbody tr th {\n",
              "        vertical-align: top;\n",
              "    }\n",
              "\n",
              "    .dataframe thead th {\n",
              "        text-align: right;\n",
              "    }\n",
              "</style>\n",
              "<table border=\"1\" class=\"dataframe\">\n",
              "  <thead>\n",
              "    <tr style=\"text-align: right;\">\n",
              "      <th></th>\n",
              "      <th>N</th>\n",
              "      <th>P</th>\n",
              "      <th>K</th>\n",
              "      <th>temperature</th>\n",
              "      <th>humidity</th>\n",
              "      <th>ph</th>\n",
              "      <th>rainfall</th>\n",
              "      <th>label</th>\n",
              "    </tr>\n",
              "  </thead>\n",
              "  <tbody>\n",
              "    <tr>\n",
              "      <th>0</th>\n",
              "      <td>98</td>\n",
              "      <td>47</td>\n",
              "      <td>37</td>\n",
              "      <td>23.483813</td>\n",
              "      <td>81.332651</td>\n",
              "      <td>7.375483</td>\n",
              "      <td>224.058116</td>\n",
              "      <td>rice</td>\n",
              "    </tr>\n",
              "    <tr>\n",
              "      <th>1</th>\n",
              "      <td>66</td>\n",
              "      <td>53</td>\n",
              "      <td>41</td>\n",
              "      <td>25.075635</td>\n",
              "      <td>80.523891</td>\n",
              "      <td>7.778915</td>\n",
              "      <td>257.003887</td>\n",
              "      <td>rice</td>\n",
              "    </tr>\n",
              "    <tr>\n",
              "      <th>2</th>\n",
              "      <td>97</td>\n",
              "      <td>59</td>\n",
              "      <td>43</td>\n",
              "      <td>26.359272</td>\n",
              "      <td>84.044036</td>\n",
              "      <td>6.286500</td>\n",
              "      <td>271.358614</td>\n",
              "      <td>rice</td>\n",
              "    </tr>\n",
              "    <tr>\n",
              "      <th>3</th>\n",
              "      <td>97</td>\n",
              "      <td>50</td>\n",
              "      <td>41</td>\n",
              "      <td>24.529227</td>\n",
              "      <td>80.544986</td>\n",
              "      <td>7.070960</td>\n",
              "      <td>260.263403</td>\n",
              "      <td>rice</td>\n",
              "    </tr>\n",
              "    <tr>\n",
              "      <th>4</th>\n",
              "      <td>60</td>\n",
              "      <td>49</td>\n",
              "      <td>44</td>\n",
              "      <td>20.775761</td>\n",
              "      <td>84.497744</td>\n",
              "      <td>6.244841</td>\n",
              "      <td>240.081065</td>\n",
              "      <td>rice</td>\n",
              "    </tr>\n",
              "  </tbody>\n",
              "</table>\n",
              "</div>"
            ],
            "text/plain": [
              "    N   P   K  temperature   humidity        ph    rainfall label\n",
              "0  98  47  37    23.483813  81.332651  7.375483  224.058116  rice\n",
              "1  66  53  41    25.075635  80.523891  7.778915  257.003887  rice\n",
              "2  97  59  43    26.359272  84.044036  6.286500  271.358614  rice\n",
              "3  97  50  41    24.529227  80.544986  7.070960  260.263403  rice\n",
              "4  60  49  44    20.775761  84.497744  6.244841  240.081065  rice"
            ]
          },
          "metadata": {
            "tags": []
          },
          "execution_count": 8
        }
      ]
    },
    {
      "cell_type": "code",
      "metadata": {
        "colab": {
          "base_uri": "https://localhost:8080/"
        },
        "id": "liy3mJ0eiMsA",
        "outputId": "427ea354-d172-4f02-e5f3-15d581d7f74e"
      },
      "source": [
        "print('Rows     :',df.shape[0])\n",
        "print('Columns  :',df.shape[1])\n",
        "print('\\nFeatures :\\n     :',df.columns.tolist())\n",
        "print('\\nMissing values    :',df.isnull().values.sum()) #for finding null values in the following dataset.\n",
        "print('\\nUnique values :  \\n',df.nunique())\n",
        "print('\\nStatical Measure of the data set   :\\n',df.describe()) # Statically computed values of the dataset."
      ],
      "execution_count": null,
      "outputs": [
        {
          "output_type": "stream",
          "text": [
            "Rows     : 2176\n",
            "Columns  : 8\n",
            "\n",
            "Features :\n",
            "     : ['N', 'P', 'K', 'temperature', 'humidity', 'ph', 'rainfall', 'label']\n",
            "\n",
            "Missing values    : 0\n",
            "\n",
            "Unique values :  \n",
            " N               137\n",
            "P               117\n",
            "K                73\n",
            "temperature    2176\n",
            "humidity       2176\n",
            "ph             2176\n",
            "rainfall       2176\n",
            "label            22\n",
            "dtype: int64\n",
            "\n",
            "Statical Measure of the data set   :\n",
            "                 N            P  ...           ph     rainfall\n",
            "count  2176.00000  2176.000000  ...  2176.000000  2176.000000\n",
            "mean     50.21875    53.431526  ...     6.469472   101.984235\n",
            "std      36.96639    33.149177  ...     0.774208    53.328066\n",
            "min       0.00000     5.000000  ...     3.504752    20.211267\n",
            "25%      21.00000    28.000000  ...     5.972172    64.251016\n",
            "50%      37.00000    51.000000  ...     6.424285    94.320318\n",
            "75%      84.00000    68.000000  ...     6.920131   122.047254\n",
            "max     140.00000   145.000000  ...     9.935091   298.560117\n",
            "\n",
            "[8 rows x 7 columns]\n"
          ],
          "name": "stdout"
        }
      ]
    },
    {
      "cell_type": "code",
      "metadata": {
        "colab": {
          "base_uri": "https://localhost:8080/"
        },
        "id": "7NLgv7yxjCYd",
        "outputId": "6b227005-c68f-44ba-dabf-94cacc72101c"
      },
      "source": [
        "df['label'].unique() #22 types of label\n"
      ],
      "execution_count": null,
      "outputs": [
        {
          "output_type": "execute_result",
          "data": {
            "text/plain": [
              "array(['rice', 'maize', 'chickpea', 'kidneybeans', 'pigeonpeas',\n",
              "       'mothbeans', 'mungbean', 'blackgram', 'lentil', 'pomegranate',\n",
              "       'banana', 'mango', 'grapes', 'watermelon', 'muskmelon', 'apple',\n",
              "       'orange', 'papaya', 'coconut', 'cotton', 'jute', 'coffee'],\n",
              "      dtype=object)"
            ]
          },
          "metadata": {
            "tags": []
          },
          "execution_count": 10
        }
      ]
    },
    {
      "cell_type": "code",
      "metadata": {
        "colab": {
          "base_uri": "https://localhost:8080/"
        },
        "id": "b93ICTPdjU8O",
        "outputId": "9e286fdb-6a27-4fc0-9ca3-dca7f04315d3"
      },
      "source": [
        "df.dtypes"
      ],
      "execution_count": null,
      "outputs": [
        {
          "output_type": "execute_result",
          "data": {
            "text/plain": [
              "N                int64\n",
              "P                int64\n",
              "K                int64\n",
              "temperature    float64\n",
              "humidity       float64\n",
              "ph             float64\n",
              "rainfall       float64\n",
              "label           object\n",
              "dtype: object"
            ]
          },
          "metadata": {
            "tags": []
          },
          "execution_count": 11
        }
      ]
    },
    {
      "cell_type": "code",
      "metadata": {
        "colab": {
          "base_uri": "https://localhost:8080/"
        },
        "id": "r9z9ic8mjhYF",
        "outputId": "cf2173a0-8cfb-4bd0-f5dc-aca349501732"
      },
      "source": [
        "df['label'].value_counts() "
      ],
      "execution_count": null,
      "outputs": [
        {
          "output_type": "execute_result",
          "data": {
            "text/plain": [
              "coconut        100\n",
              "mothbeans      100\n",
              "pigeonpeas     100\n",
              "cotton         100\n",
              "mungbean       100\n",
              "muskmelon      100\n",
              "watermelon     100\n",
              "kidneybeans    100\n",
              "banana         100\n",
              "blackgram      100\n",
              "papaya         100\n",
              "coffee         100\n",
              "lentil         100\n",
              "orange         100\n",
              "pomegranate    100\n",
              "jute           100\n",
              "chickpea       100\n",
              "grapes         100\n",
              "apple          100\n",
              "maize          100\n",
              "mango          100\n",
              "rice            76\n",
              "Name: label, dtype: int64"
            ]
          },
          "metadata": {
            "tags": []
          },
          "execution_count": 12
        }
      ]
    },
    {
      "cell_type": "code",
      "metadata": {
        "colab": {
          "base_uri": "https://localhost:8080/",
          "height": 340
        },
        "id": "xc6hFFCQjnN1",
        "outputId": "f42d31d3-0af3-44f6-a404-455d7c4804c5"
      },
      "source": [
        "sns.heatmap(df.corr(),annot=True)"
      ],
      "execution_count": null,
      "outputs": [
        {
          "output_type": "execute_result",
          "data": {
            "text/plain": [
              "<matplotlib.axes._subplots.AxesSubplot at 0x7fea7f3a3a10>"
            ]
          },
          "metadata": {
            "tags": []
          },
          "execution_count": 13
        },
        {
          "output_type": "display_data",
          "data": {
            "image/png": "[encoded data removed]",
            "text/plain": [
              "<Figure size 432x288 with 2 Axes>"
            ]
          },
          "metadata": {
            "tags": [],
            "needs_background": "light"
          }
        }
      ]
    },
    {
      "cell_type": "code",
      "metadata": {
        "id": "cZWeFhhukNp4"
      },
      "source": [
        "features = df[['N', 'P','K','temperature', 'humidity', 'ph', 'rainfall']]\n",
        "target = df['label']\n",
        "labels = df['label']"
      ],
      "execution_count": null,
      "outputs": []
    },
    {
      "cell_type": "code",
      "metadata": {
        "colab": {
          "base_uri": "https://localhost:8080/",
          "height": 784
        },
        "id": "OyQod8VPkZRf",
        "outputId": "9ea58596-b41b-44f9-86af-9466f5dc98d0"
      },
      "source": [
        "import matplotlib.pyplot as plt  \n",
        "df.hist(bins=50, figsize=(10,10))"
      ],
      "execution_count": null,
      "outputs": [
        {
          "output_type": "execute_result",
          "data": {
            "text/plain": [
              "array([[<matplotlib.axes._subplots.AxesSubplot object at 0x7fea718f69d0>,\n",
              "        <matplotlib.axes._subplots.AxesSubplot object at 0x7fea71913710>,\n",
              "        <matplotlib.axes._subplots.AxesSubplot object at 0x7fea718cad90>],\n",
              "       [<matplotlib.axes._subplots.AxesSubplot object at 0x7fea7188c450>,\n",
              "        <matplotlib.axes._subplots.AxesSubplot object at 0x7fea71842ad0>,\n",
              "        <matplotlib.axes._subplots.AxesSubplot object at 0x7fea79ebe550>],\n",
              "       [<matplotlib.axes._subplots.AxesSubplot object at 0x7fea71878850>,\n",
              "        <matplotlib.axes._subplots.AxesSubplot object at 0x7fea717d5090>,\n",
              "        <matplotlib.axes._subplots.AxesSubplot object at 0x7fea717e8910>]],\n",
              "      dtype=object)"
            ]
          },
          "metadata": {
            "tags": []
          },
          "execution_count": 15
        },
        {
          "output_type": "display_data",
          "data": {
            "image/png": "[encoded data removed]",
            "text/plain": [
              "<Figure size 720x720 with 9 Axes>"
            ]
          },
          "metadata": {
            "tags": [],
            "needs_background": "light"
          }
        }
      ]
    },
    {
      "cell_type": "code",
      "metadata": {
        "id": "P9-aD1MulZUj"
      },
      "source": [
        "features = df[['N', 'P','K','temperature', 'humidity', 'ph', 'rainfall']]\n",
        "target = df['label']\n",
        "labels = df['label']"
      ],
      "execution_count": null,
      "outputs": []
    },
    {
      "cell_type": "code",
      "metadata": {
        "id": "dkT9YVnAnSwh"
      },
      "source": [
        "\n",
        "\n",
        "acc = []\n",
        "model = []\n",
        "\n"
      ],
      "execution_count": null,
      "outputs": []
    },
    {
      "cell_type": "code",
      "metadata": {
        "id": "BS_BW2X6HYGm"
      },
      "source": [
        "# Splitting into train and test data\n",
        "\n",
        "from sklearn.model_selection import train_test_split\n",
        "Xtrain, Xtest, Ytrain, Ytest = train_test_split(features,target,test_size = 0.2,random_state =2)"
      ],
      "execution_count": null,
      "outputs": []
    },
    {
      "cell_type": "markdown",
      "metadata": {
        "id": "66ewoAL5HgE8"
      },
      "source": [
        "\n",
        "\n",
        "Decision Tree\n"
      ]
    },
    {
      "cell_type": "code",
      "metadata": {
        "colab": {
          "base_uri": "https://localhost:8080/"
        },
        "id": "hAB9wZ6sHdjL",
        "outputId": "9fed85dd-67e7-4f80-ef9d-267e5097a192"
      },
      "source": [
        "from sklearn.metrics import classification_report\n",
        "from sklearn.tree import DecisionTreeClassifier\n",
        "\n",
        "DecisionTree = DecisionTreeClassifier(criterion=\"entropy\",random_state=2,max_depth=5)\n",
        "\n",
        "DecisionTree.fit(Xtrain,Ytrain)\n",
        "\n",
        "predicted_values = DecisionTree.predict(Xtest)\n",
        "x = metrics.accuracy_score(Ytest, predicted_values)\n",
        "acc.append(x)\n",
        "model.append('Decision Tree')\n",
        "print(\"DecisionTrees's Accuracy is: \", x*100)\n",
        "\n",
        "print(classification_report(Ytest,predicted_values))"
      ],
      "execution_count": null,
      "outputs": [
        {
          "output_type": "stream",
          "text": [
            "DecisionTrees's Accuracy is:  92.20183486238533\n",
            "              precision    recall  f1-score   support\n",
            "\n",
            "       apple       1.00      1.00      1.00        24\n",
            "      banana       1.00      1.00      1.00        23\n",
            "   blackgram       0.65      1.00      0.79        15\n",
            "    chickpea       1.00      1.00      1.00        21\n",
            "     coconut       1.00      1.00      1.00        20\n",
            "      coffee       0.94      0.85      0.89        20\n",
            "      cotton       0.96      1.00      0.98        23\n",
            "      grapes       1.00      1.00      1.00        18\n",
            "        jute       1.00      0.27      0.42        26\n",
            " kidneybeans       1.00      0.89      0.94        19\n",
            "      lentil       0.96      1.00      0.98        22\n",
            "       maize       0.85      0.85      0.85        20\n",
            "       mango       1.00      0.93      0.96        29\n",
            "   mothbeans       1.00      0.72      0.84        18\n",
            "    mungbean       1.00      1.00      1.00        18\n",
            "   muskmelon       1.00      1.00      1.00        21\n",
            "      orange       1.00      1.00      1.00        25\n",
            "      papaya       1.00      1.00      1.00        16\n",
            "  pigeonpeas       0.90      1.00      0.95        19\n",
            " pomegranate       1.00      1.00      1.00        16\n",
            "        rice       0.36      1.00      0.53        10\n",
            "  watermelon       1.00      1.00      1.00        13\n",
            "\n",
            "    accuracy                           0.92       436\n",
            "   macro avg       0.94      0.93      0.92       436\n",
            "weighted avg       0.96      0.92      0.92       436\n",
            "\n"
          ],
          "name": "stdout"
        }
      ]
    },
    {
      "cell_type": "code",
      "metadata": {
        "id": "4k3GYKfpHmZa"
      },
      "source": [
        ""
      ],
      "execution_count": null,
      "outputs": []
    }
  ]
}